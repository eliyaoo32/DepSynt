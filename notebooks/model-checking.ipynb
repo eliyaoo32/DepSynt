{
 "cells": [
  {
   "cell_type": "code",
   "execution_count": 64,
   "metadata": {},
   "outputs": [],
   "source": [
    "from glob import glob\n",
    "import os\n",
    "from pathlib import Path\n",
    "from enum import Enum\n",
    "import json\n",
    "import pandas as pd\n",
    "import seaborn as sns"
   ]
  },
  {
   "cell_type": "code",
   "execution_count": 50,
   "metadata": {},
   "outputs": [],
   "source": [
    "SYNT_WITH_DEPS_PATH = \"../experiments/model-checking/synt-with-deps/\""
   ]
  },
  {
   "attachments": {},
   "cell_type": "markdown",
   "metadata": {},
   "source": [
    "# Utils"
   ]
  },
  {
   "cell_type": "code",
   "execution_count": 51,
   "metadata": {},
   "outputs": [],
   "source": [
    "class Status(Enum):\n",
    "    ERROR = \"Error\"\n",
    "    SUCCESS = \"Success\"\n",
    "    NOT_FOUND = \"Not Found\"\n",
    "    \n",
    "    def __repr__(self):\n",
    "        return str(self.value)"
   ]
  },
  {
   "cell_type": "code",
   "execution_count": 52,
   "metadata": {},
   "outputs": [
    {
     "name": "stdout",
     "output_type": "stream",
     "text": [
      "Total benchmark of synthesis with dependecy 207\n"
     ]
    }
   ],
   "source": [
    "def get_all_benchmarks(path):\n",
    "    hoa_files = glob(os.path.join(path, \"*.hoa\"))\n",
    "    names = [\n",
    "        Path(f).stem\n",
    "        for f in hoa_files\n",
    "    ]\n",
    "    return names\n",
    "print(\"Total benchmark of synthesis with dependecy\" , len(get_all_benchmarks(SYNT_WITH_DEPS_PATH)))"
   ]
  },
  {
   "cell_type": "code",
   "execution_count": 58,
   "metadata": {},
   "outputs": [],
   "source": [
    "def benchmark_loader(algorithm: str, path: str):\n",
    "    def load_benchmark(name: str):\n",
    "        base = {\n",
    "            'algorithm': algorithm,\n",
    "            'name': name,\n",
    "        }\n",
    "        \n",
    "        json_path = os.path.join(path, name + \".json\")\n",
    "        hoa_path = os.path.join(path, name + \".hoa\")\n",
    "        \n",
    "        if not os.path.exists(hoa_path):\n",
    "            return {\n",
    "                **base,\n",
    "                'run_status': Status.NOT_FOUND\n",
    "            }\n",
    "        \n",
    "        if not os.path.exists(json_path):\n",
    "            return {\n",
    "                **base,\n",
    "                'run_status': Status.ERROR\n",
    "            }\n",
    "        \n",
    "        with open(json_path, 'r') as f:\n",
    "            benchmark_json = json.load(f)\n",
    "        \n",
    "        model_checking = benchmark_json['synthesis']['model_checking_status']\n",
    "        realizability = benchmark_json['synthesis']['independent_strategy']['realizability']\n",
    "        is_completed = benchmark_json['is_completed']\n",
    "        \n",
    "        return {\n",
    "            **base,\n",
    "            'run_status': Status.SUCCESS,\n",
    "            'is_completed': is_completed,\n",
    "            'model_checking': model_checking,\n",
    "            'realizability': realizability\n",
    "        }\n",
    "\n",
    "    return load_benchmark"
   ]
  },
  {
   "cell_type": "code",
   "execution_count": 59,
   "metadata": {},
   "outputs": [
    {
     "data": {
      "text/html": [
       "<div>\n",
       "<style scoped>\n",
       "    .dataframe tbody tr th:only-of-type {\n",
       "        vertical-align: middle;\n",
       "    }\n",
       "\n",
       "    .dataframe tbody tr th {\n",
       "        vertical-align: top;\n",
       "    }\n",
       "\n",
       "    .dataframe thead th {\n",
       "        text-align: right;\n",
       "    }\n",
       "</style>\n",
       "<table border=\"1\" class=\"dataframe\">\n",
       "  <thead>\n",
       "    <tr style=\"text-align: right;\">\n",
       "      <th></th>\n",
       "      <th>algorithm</th>\n",
       "      <th>name</th>\n",
       "      <th>run_status</th>\n",
       "      <th>is_completed</th>\n",
       "      <th>model_checking</th>\n",
       "      <th>realizability</th>\n",
       "    </tr>\n",
       "  </thead>\n",
       "  <tbody>\n",
       "    <tr>\n",
       "      <th>0</th>\n",
       "      <td>synt-deps</td>\n",
       "      <td>TwoCountersInRangeA4</td>\n",
       "      <td>Status.SUCCESS</td>\n",
       "      <td>True</td>\n",
       "      <td>UNKNOWN</td>\n",
       "      <td>UNREALIZABLE</td>\n",
       "    </tr>\n",
       "    <tr>\n",
       "      <th>1</th>\n",
       "      <td>synt-deps</td>\n",
       "      <td>ltl2dba05</td>\n",
       "      <td>Status.SUCCESS</td>\n",
       "      <td>True</td>\n",
       "      <td>OK</td>\n",
       "      <td>REALIZABLE</td>\n",
       "    </tr>\n",
       "    <tr>\n",
       "      <th>2</th>\n",
       "      <td>synt-deps</td>\n",
       "      <td>ltl2dba11</td>\n",
       "      <td>Status.SUCCESS</td>\n",
       "      <td>True</td>\n",
       "      <td>OK</td>\n",
       "      <td>REALIZABLE</td>\n",
       "    </tr>\n",
       "    <tr>\n",
       "      <th>3</th>\n",
       "      <td>synt-deps</td>\n",
       "      <td>TwoCountersDisButA6</td>\n",
       "      <td>Status.SUCCESS</td>\n",
       "      <td>True</td>\n",
       "      <td>UNKNOWN</td>\n",
       "      <td>UNREALIZABLE</td>\n",
       "    </tr>\n",
       "    <tr>\n",
       "      <th>4</th>\n",
       "      <td>synt-deps</td>\n",
       "      <td>TorcsSteeringSimple</td>\n",
       "      <td>Status.SUCCESS</td>\n",
       "      <td>True</td>\n",
       "      <td>OK</td>\n",
       "      <td>REALIZABLE</td>\n",
       "    </tr>\n",
       "  </tbody>\n",
       "</table>\n",
       "</div>"
      ],
      "text/plain": [
       "   algorithm                  name      run_status is_completed  \\\n",
       "0  synt-deps  TwoCountersInRangeA4  Status.SUCCESS         True   \n",
       "1  synt-deps             ltl2dba05  Status.SUCCESS         True   \n",
       "2  synt-deps             ltl2dba11  Status.SUCCESS         True   \n",
       "3  synt-deps   TwoCountersDisButA6  Status.SUCCESS         True   \n",
       "4  synt-deps   TorcsSteeringSimple  Status.SUCCESS         True   \n",
       "\n",
       "  model_checking realizability  \n",
       "0        UNKNOWN  UNREALIZABLE  \n",
       "1             OK    REALIZABLE  \n",
       "2             OK    REALIZABLE  \n",
       "3        UNKNOWN  UNREALIZABLE  \n",
       "4             OK    REALIZABLE  "
      ]
     },
     "execution_count": 59,
     "metadata": {},
     "output_type": "execute_result"
    }
   ],
   "source": [
    "synt_deps_loader = benchmark_loader('synt-deps', SYNT_WITH_DEPS_PATH)\n",
    "synt_deps_df = pd.DataFrame([synt_deps_loader(name) for name in get_all_benchmarks(SYNT_WITH_DEPS_PATH)])\n",
    "synt_deps_df.head(5)"
   ]
  },
  {
   "attachments": {},
   "cell_type": "markdown",
   "metadata": {},
   "source": [
    "# Model Checking Results"
   ]
  },
  {
   "cell_type": "code",
   "execution_count": 63,
   "metadata": {},
   "outputs": [
    {
     "name": "stdout",
     "output_type": "stream",
     "text": [
      "Total benchmark with running error  24\n",
      "Total benchmark uncompleted (Timeout)  32\n"
     ]
    }
   ],
   "source": [
    "print(\"Total benchmark with running error \", len(synt_deps_df[ synt_deps_df[\"run_status\"] != Status.SUCCESS ]))\n",
    "print(\"Total benchmark uncompleted (Timeout) \", len(synt_deps_df[ synt_deps_df[\"is_completed\"] != True ]))"
   ]
  },
  {
   "cell_type": "code",
   "execution_count": 76,
   "metadata": {},
   "outputs": [
    {
     "data": {
      "image/png": "[encoded data removed]",
      "text/plain": [
       "<Figure size 640x480 with 1 Axes>"
      ]
     },
     "metadata": {},
     "output_type": "display_data"
    }
   ],
   "source": [
    "realizable_benchmarks = synt_deps_df[(synt_deps_df[\"is_completed\"] == True) & (synt_deps_df[\"realizability\"] != \"UNREALIZABLE\")]\n",
    "ax = sns.countplot(x=realizable_benchmarks[\"model_checking\"])\n",
    "ax.bar_label(ax.containers[0]); ax.set_title(\"Model Checking Status of Realizable Benchmarks\");"
   ]
  }
 ],
 "metadata": {
  "kernelspec": {
   "display_name": "benchmarks",
   "language": "python",
   "name": "python3"
  },
  "language_info": {
   "codemirror_mode": {
    "name": "ipython",
    "version": 3
   },
   "file_extension": ".py",
   "mimetype": "text/x-python",
   "name": "python",
   "nbconvert_exporter": "python",
   "pygments_lexer": "ipython3",
   "version": "3.10.4"
  },
  "orig_nbformat": 4
 },
 "nbformat": 4,
 "nbformat_minor": 2
}
