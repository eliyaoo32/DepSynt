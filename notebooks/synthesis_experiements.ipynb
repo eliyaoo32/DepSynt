{
 "cells": [
  {
   "cell_type": "code",
   "execution_count": 53,
   "metadata": {},
   "outputs": [],
   "source": [
    "from dataclasses import dataclass\n",
    "from pathlib import Path\n",
    "import seaborn as sns\n",
    "import matplotlib.pyplot as plt\n",
    "import pandas as pd\n",
    "from glob import glob\n",
    "import re"
   ]
  },
  {
   "attachments": {},
   "cell_type": "markdown",
   "metadata": {},
   "source": [
    "# Loading Benchmarks Results"
   ]
  },
  {
   "cell_type": "code",
   "execution_count": 40,
   "metadata": {},
   "outputs": [],
   "source": [
    "@dataclass\n",
    "class BenchmarkResult:\n",
    "    benchmark_name: str\n",
    "    tool: str\n",
    "    total_durations: int # In milliseconds\n",
    "    is_realizable: bool\n",
    "    total_states: int\n",
    "    is_completed: bool\n",
    "\n",
    "    @staticmethod\n",
    "    def read_from_hoa(hoa_filepath: str):\n",
    "        hoa = Path(hoa_filepath).read_text()\n",
    "        \n",
    "        total_duration_rgx = \"Total Duration:\\s*(\\d+[.]?\\d*)\"\n",
    "        tool_name_rgx = \"Tool:\\s*(.*)[*]\"\n",
    "        total_states_rgx = \"States:\\s*(\\d+)\"\n",
    "        benchmark_name = Path(hoa_filepath).stem\n",
    "        \n",
    "        is_completed = (\"REALIZABLE\" in hoa) or (\"UNREALIZABLE\" in hoa)\n",
    "        total_duration = float(re.search(total_duration_rgx, hoa).group(1))\n",
    "        tool_name = re.search(tool_name_rgx, hoa).group(1)\n",
    "        \n",
    "        is_realizable = not(\"UNREALIZABLE\" in hoa) if is_completed else None\n",
    "        total_states = re.search(total_states_rgx, hoa).group(1) if is_realizable else None\n",
    "    \n",
    "        return BenchmarkResult(\n",
    "            benchmark_name, tool_name.strip(), total_duration,\n",
    "            is_realizable, total_states, is_completed\n",
    "        )"
   ]
  },
  {
   "cell_type": "code",
   "execution_count": 41,
   "metadata": {},
   "outputs": [],
   "source": [
    "algorithms_output_path = glob(\"../outputs-synt/*\")\n",
    "algorithms = [ Path(path).stem for path in algorithms_output_path]"
   ]
  },
  {
   "cell_type": "code",
   "execution_count": 42,
   "metadata": {},
   "outputs": [],
   "source": [
    "algorithms_benchmarks = {}\n",
    "for algo, outputs_path in zip(algorithms, algorithms_output_path):\n",
    "    benchmarks_path = glob(f\"{outputs_path}/*\")\n",
    "    benchmarks = [ BenchmarkResult.read_from_hoa(benchmark) for benchmark in benchmarks_path]\n",
    "    algorithms_benchmarks[algo] = benchmarks"
   ]
  },
  {
   "cell_type": "code",
   "execution_count": 43,
   "metadata": {},
   "outputs": [
    {
     "data": {
      "text/html": [
       "<div>\n",
       "<style scoped>\n",
       "    .dataframe tbody tr th:only-of-type {\n",
       "        vertical-align: middle;\n",
       "    }\n",
       "\n",
       "    .dataframe tbody tr th {\n",
       "        vertical-align: top;\n",
       "    }\n",
       "\n",
       "    .dataframe thead th {\n",
       "        text-align: right;\n",
       "    }\n",
       "</style>\n",
       "<table border=\"1\" class=\"dataframe\">\n",
       "  <thead>\n",
       "    <tr style=\"text-align: right;\">\n",
       "      <th></th>\n",
       "      <th>benchmark_name</th>\n",
       "      <th>tool</th>\n",
       "      <th>total_durations</th>\n",
       "      <th>is_realizable</th>\n",
       "      <th>total_states</th>\n",
       "      <th>is_completed</th>\n",
       "    </tr>\n",
       "  </thead>\n",
       "  <tbody>\n",
       "    <tr>\n",
       "      <th>0</th>\n",
       "      <td>TwoCountersInRangeA4</td>\n",
       "      <td>ltlsynt-ds</td>\n",
       "      <td>6892.819</td>\n",
       "      <td>False</td>\n",
       "      <td>None</td>\n",
       "      <td>True</td>\n",
       "    </tr>\n",
       "    <tr>\n",
       "      <th>1</th>\n",
       "      <td>ltl2dba05</td>\n",
       "      <td>ltlsynt-ds</td>\n",
       "      <td>20.461</td>\n",
       "      <td>True</td>\n",
       "      <td>5</td>\n",
       "      <td>True</td>\n",
       "    </tr>\n",
       "    <tr>\n",
       "      <th>2</th>\n",
       "      <td>ltl2dba11</td>\n",
       "      <td>ltlsynt-ds</td>\n",
       "      <td>23.871</td>\n",
       "      <td>True</td>\n",
       "      <td>1</td>\n",
       "      <td>True</td>\n",
       "    </tr>\n",
       "    <tr>\n",
       "      <th>3</th>\n",
       "      <td>TwoCountersDisButA6</td>\n",
       "      <td>ltlsynt-ds</td>\n",
       "      <td>2401558.201</td>\n",
       "      <td>None</td>\n",
       "      <td>None</td>\n",
       "      <td>False</td>\n",
       "    </tr>\n",
       "    <tr>\n",
       "      <th>4</th>\n",
       "      <td>TorcsSteeringSimple</td>\n",
       "      <td>ltlsynt-ds</td>\n",
       "      <td>24.025</td>\n",
       "      <td>True</td>\n",
       "      <td>1</td>\n",
       "      <td>True</td>\n",
       "    </tr>\n",
       "  </tbody>\n",
       "</table>\n",
       "</div>"
      ],
      "text/plain": [
       "         benchmark_name        tool  total_durations is_realizable  \\\n",
       "0  TwoCountersInRangeA4  ltlsynt-ds         6892.819         False   \n",
       "1             ltl2dba05  ltlsynt-ds           20.461          True   \n",
       "2             ltl2dba11  ltlsynt-ds           23.871          True   \n",
       "3   TwoCountersDisButA6  ltlsynt-ds      2401558.201          None   \n",
       "4   TorcsSteeringSimple  ltlsynt-ds           24.025          True   \n",
       "\n",
       "  total_states  is_completed  \n",
       "0         None          True  \n",
       "1            5          True  \n",
       "2            1          True  \n",
       "3         None         False  \n",
       "4            1          True  "
      ]
     },
     "execution_count": 43,
     "metadata": {},
     "output_type": "execute_result"
    }
   ],
   "source": [
    "all_benchmarks_dict = []\n",
    "for algo, benchmarks in algorithms_benchmarks.items():\n",
    "    for benchmark in benchmarks:\n",
    "        all_benchmarks_dict.append(benchmark.__dict__)\n",
    "benchmarks_df = pd.DataFrame(all_benchmarks_dict)\n",
    "benchmarks_df.head()"
   ]
  },
  {
   "attachments": {},
   "cell_type": "markdown",
   "metadata": {},
   "source": [
    "# Overview Benchmarks"
   ]
  },
  {
   "cell_type": "code",
   "execution_count": 56,
   "metadata": {},
   "outputs": [
    {
     "data": {
      "image/png": "[encoded data removed]",
      "text/plain": [
       "<Figure size 640x480 with 1 Axes>"
      ]
     },
     "metadata": {},
     "output_type": "display_data"
    }
   ],
   "source": [
    "ax = sns.countplot(x=\"tool\", data=benchmarks_df, hue=\"is_completed\")\n",
    "for container in ax.containers: ax.bar_label(container)\n",
    "ax.set_title(\"Total Completed Benchmarks\")\n",
    "plt.legend(bbox_to_anchor=(1.02, 1), loc='upper left', borderaxespad=0);"
   ]
  }
 ],
 "metadata": {
  "kernelspec": {
   "display_name": "benchmarks",
   "language": "python",
   "name": "python3"
  },
  "language_info": {
   "codemirror_mode": {
    "name": "ipython",
    "version": 3
   },
   "file_extension": ".py",
   "mimetype": "text/x-python",
   "name": "python",
   "nbconvert_exporter": "python",
   "pygments_lexer": "ipython3",
   "version": "3.10.4"
  },
  "orig_nbformat": 4,
  "vscode": {
   "interpreter": {
    "hash": "5c95516b50075bd36227ea2cf76831714bd40e79f04e75cfd085021ce07f6cdf"
   }
  }
 },
 "nbformat": 4,
 "nbformat_minor": 2
}
