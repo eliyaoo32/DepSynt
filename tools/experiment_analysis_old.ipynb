{
 "cells": [
  {
   "cell_type": "code",
   "execution_count": 7,
   "metadata": {
    "collapsed": true,
    "pycharm": {
     "name": "#%%\n"
    }
   },
   "outputs": [],
   "source": [
    "import json\n",
    "import numpy as np\n",
    "import seaborn as sns\n",
    "import pandas as pd\n",
    "%matplotlib inline"
   ]
  },
  {
   "cell_type": "code",
   "execution_count": 8,
   "metadata": {
    "collapsed": false,
    "pycharm": {
     "name": "#%%\n"
    }
   },
   "outputs": [
    {
     "name": "stdout",
     "output_type": "stream",
     "text": [
      "Total Valid Benchmarks:  192\n",
      "Benchmark keys:  dict_keys(['benchmark_name', 'input_vars', 'output_vars', 'ltl_formula', 'is_completed_successfully', 'total_duration', 'was_spec_constructed', 'spec_construction_duration', 'dependent_vars', 'tested_vars'])\n"
     ]
    }
   ],
   "source": [
    "_results = json.load(open('./results.json'))\n",
    "benchmarks = [bench for bench in _results if bench['is_completed_successfully'] is not None]    # Ignored benchmarks with issues\n",
    "print(\"Total Valid Benchmarks: \", len(benchmarks))\n",
    "print(\"Benchmark keys: \", benchmarks[0].keys())"
   ]
  },
  {
   "cell_type": "code",
   "execution_count": 9,
   "metadata": {
    "collapsed": false,
    "pycharm": {
     "name": "#%%\n"
    }
   },
   "outputs": [],
   "source": [
    "constructed_benchmark = [bench for bench in benchmarks if bench['was_spec_constructed'] == 'true']\n",
    "completed_benchmark = [bench for bench in constructed_benchmark if bench['is_completed_successfully'] == 'true']\n",
    "incompleted_benchmark = [bench for bench in constructed_benchmark if bench['is_completed_successfully'] == 'false']\n",
    "incomplete_with_tested_vars_benchmarks = [bench for bench in incompleted_benchmark if len(bench['tested_vars']) > 0]"
   ]
  },
  {
   "cell_type": "code",
   "execution_count": 10,
   "metadata": {
    "collapsed": false,
    "pycharm": {
     "name": "#%%\n"
    }
   },
   "outputs": [
    {
     "name": "stdout",
     "output_type": "stream",
     "text": [
      "Total Benchmarks:  192\n",
      "Total Benchmarks With Spec Constructed:  168\n",
      "Total Completed Benchmarks:  88\n",
      "Total Incompleted benchmark:  80\n",
      "Total Incompleted benchmark with at least one tested vars:  8\n"
     ]
    }
   ],
   "source": [
    "print(\"Total Benchmarks: \", len(benchmarks))\n",
    "print(\"Total Benchmarks With Spec Constructed: \", len(constructed_benchmark))\n",
    "print(\"Total Completed Benchmarks: \", len(completed_benchmark))\n",
    "print(\"Total Incompleted benchmark: \", len(incompleted_benchmark))\n",
    "print(\"Total Incompleted benchmark with at least one tested vars: \", len(incomplete_with_tested_vars_benchmarks))"
   ]
  },
  {
   "cell_type": "markdown",
   "metadata": {
    "collapsed": false,
    "pycharm": {
     "name": "#%% md\n"
    }
   },
   "source": [
    "## Dependent Variables"
   ]
  },
  {
   "cell_type": "code",
   "execution_count": 11,
   "metadata": {
    "collapsed": false,
    "pycharm": {
     "name": "#%%\n"
    }
   },
   "outputs": [],
   "source": [
    "benchmarks_with_deps = [bench for bench in benchmarks if len(bench['dependent_vars']) > 0]\n",
    "completed_benchmark_with_deps = [bench for bench in benchmarks_with_deps if bench['is_completed_successfully'] == 'true']\n",
    "incompleted_benchmark_with_deps = [bench for bench in benchmarks_with_deps if bench['is_completed_successfully'] == 'false']"
   ]
  },
  {
   "cell_type": "code",
   "execution_count": 12,
   "metadata": {
    "collapsed": false,
    "pycharm": {
     "name": "#%%\n"
    }
   },
   "outputs": [
    {
     "name": "stdout",
     "output_type": "stream",
     "text": [
      "Benchmark with dependents:  47\n",
      "Completed Benchmark with Dependents:  47\n",
      "Incompleted benchmark with dependents:  0\n"
     ]
    }
   ],
   "source": [
    "print(\"Benchmark with dependents: \", len(benchmarks_with_deps))\n",
    "print(\"Completed Benchmark with Dependents: \", len(completed_benchmark_with_deps))\n",
    "print(\"Incompleted benchmark with dependents: \", len(incompleted_benchmark_with_deps))"
   ]
  },
  {
   "cell_type": "code",
   "execution_count": 13,
   "metadata": {
    "collapsed": false,
    "pycharm": {
     "name": "#%%\n"
    }
   },
   "outputs": [
    {
     "data": {
      "image/png": "[encoded data removed]",
      "text/plain": [
       "<Figure size 640x480 with 1 Axes>"
      ]
     },
     "metadata": {},
     "output_type": "display_data"
    }
   ],
   "source": [
    "benchmark_deps = [ len(bench['dependent_vars']) for bench in completed_benchmark ]\n",
    "deps_agg = np.bincount(benchmark_deps)\n",
    "total_deps_counter = pd.DataFrame.from_records([\n",
    "    {\"Num of deps\": x, \"benchmarks\": y }\n",
    "    for x, y in zip(np.arange(len(deps_agg)), deps_agg)\n",
    "])\n",
    "ax = sns.barplot(data=total_deps_counter, x='Num of deps', y='benchmarks');\n",
    "for i in ax.containers:\n",
    "    ax.bar_label(i,)"
   ]
  },
  {
   "cell_type": "code",
   "execution_count": 14,
   "metadata": {
    "collapsed": false,
    "pycharm": {
     "name": "#%%\n"
    }
   },
   "outputs": [],
   "source": [
    "def has_deps_in_vars(benchmark, kind):\n",
    "    vars_kind = set(benchmark['output_vars'] if kind == 'output' else benchmark['input_vars'])\n",
    "    deps = set(benchmark['dependent_vars'])\n",
    "\n",
    "    return len(deps.intersection(vars_kind)) > 0"
   ]
  },
  {
   "cell_type": "code",
   "execution_count": 15,
   "metadata": {
    "collapsed": false,
    "pycharm": {
     "name": "#%%\n"
    }
   },
   "outputs": [
    {
     "name": "stdout",
     "output_type": "stream",
     "text": [
      "Benchmarks with output dependents:  47\n",
      "Benchmarks with input dependents:  47\n"
     ]
    }
   ],
   "source": [
    "benchs_with_output_deps = sum(has_deps_in_vars(b, 'output') for b in benchmarks_with_deps)\n",
    "benchs_with_input_deps = sum(has_deps_in_vars(b, 'input') for b in benchmarks_with_deps)\n",
    "\n",
    "print(\"Benchmarks with output dependents: \", benchs_with_output_deps)\n",
    "print(\"Benchmarks with input dependents: \", benchs_with_output_deps)"
   ]
  }
 ],
 "metadata": {
  "kernelspec": {
   "display_name": "Python 3.10.4 ('benchmarks')",
   "language": "python",
   "name": "python3"
  },
  "language_info": {
   "codemirror_mode": {
    "name": "ipython",
    "version": 3
   },
   "file_extension": ".py",
   "mimetype": "text/x-python",
   "name": "python",
   "nbconvert_exporter": "python",
   "pygments_lexer": "ipython3",
   "version": "3.10.4"
  },
  "vscode": {
   "interpreter": {
    "hash": "5c95516b50075bd36227ea2cf76831714bd40e79f04e75cfd085021ce07f6cdf"
   }
  }
 },
 "nbformat": 4,
 "nbformat_minor": 0
}
