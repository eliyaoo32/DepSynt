{
 "cells": [
  {
   "cell_type": "code",
   "execution_count": 1,
   "metadata": {},
   "outputs": [],
   "source": [
    "from dataclasses import dataclass"
   ]
  },
  {
   "cell_type": "code",
   "execution_count": null,
   "metadata": {},
   "outputs": [],
   "source": [
    "@dataclass\n",
    "class HOA:\n",
    "    benchmark_name: str\n",
    "    tool: str\n",
    "    total_durations: int # In milliseconds\n",
    "    is_realizable: bool\n",
    "    total_states: int\n",
    "\n",
    "    @staticmethod\n",
    "    def read_from_file(file_name):\n",
    "        with open(file_name, \"r\") as f:\n",
    "            return HOA(benchmark_name, tool, total_durations, is_realizable, total_states)"
   ]
  }
 ],
 "metadata": {
  "kernelspec": {
   "display_name": "benchmarks",
   "language": "python",
   "name": "python3"
  },
  "language_info": {
   "codemirror_mode": {
    "name": "ipython",
    "version": 3
   },
   "file_extension": ".py",
   "mimetype": "text/x-python",
   "name": "python",
   "nbconvert_exporter": "python",
   "pygments_lexer": "ipython3",
   "version": "3.10.4"
  },
  "orig_nbformat": 4,
  "vscode": {
   "interpreter": {
    "hash": "5c95516b50075bd36227ea2cf76831714bd40e79f04e75cfd085021ce07f6cdf"
   }
  }
 },
 "nbformat": 4,
 "nbformat_minor": 2
}
