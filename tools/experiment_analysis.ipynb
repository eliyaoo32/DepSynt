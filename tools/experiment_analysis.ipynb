{
 "cells": [
  {
   "cell_type": "code",
   "execution_count": 1,
   "metadata": {
    "collapsed": true,
    "pycharm": {
     "name": "#%%\n"
    }
   },
   "outputs": [],
   "source": [
    "import json"
   ]
  },
  {
   "cell_type": "code",
   "execution_count": 15,
   "outputs": [
    {
     "name": "stdout",
     "output_type": "stream",
     "text": [
      "Benchmark keys:  dict_keys(['benchmark_name', 'input_vars', 'output_vars', 'ltl_formula', 'is_completed_successfully', 'total_duration', 'was_spec_constructed', 'spec_construction_duration', 'dependent_vars', 'tested_vars'])\n"
     ]
    }
   ],
   "source": [
    "_results = json.load(open('./results.json'))\n",
    "benchmarks = [bench for bench in _results if bench['is_completed_successfully'] is not None]    # Ignored benchmarks with issues\n",
    "print(\"Benchmark keys: \", benchmarks[0].keys())"
   ],
   "metadata": {
    "collapsed": false,
    "pycharm": {
     "name": "#%%\n"
    }
   }
  },
  {
   "cell_type": "code",
   "execution_count": 40,
   "outputs": [],
   "source": [
    "constructed_benchmark = [bench for bench in benchmarks if bench['was_spec_constructed'] == 'true']\n",
    "completed_benchmark = [bench for bench in constructed_benchmark if bench['is_completed_successfully'] == 'true']\n",
    "incompleted_benchmark = [bench for bench in constructed_benchmark if bench['is_completed_successfully'] == 'false']\n",
    "incomplete_with_tested_vars_benchmarks = [bench for bench in incompleted_benchmark if len(bench['tested_vars']) > 0]"
   ],
   "metadata": {
    "collapsed": false,
    "pycharm": {
     "name": "#%%\n"
    }
   }
  },
  {
   "cell_type": "code",
   "execution_count": 42,
   "outputs": [
    {
     "name": "stdout",
     "output_type": "stream",
     "text": [
      "Total Benchmarks:  192\n",
      "Total Benchmarks With Spec Constructed:  168\n",
      "Total Completed Benchmarks:  88\n",
      "Total Incompleted benchmark:  80\n",
      "Total Incompleted benchmark with at least one tested vars:  8\n"
     ]
    }
   ],
   "source": [
    "print(\"Total Benchmarks: \", len(benchmarks))\n",
    "print(\"Total Benchmarks With Spec Constructed: \", len(constructed_benchmark))\n",
    "print(\"Total Completed Benchmarks: \", len(completed_benchmark))\n",
    "print(\"Total Incompleted benchmark: \", len(incompleted_benchmark))\n",
    "print(\"Total Incompleted benchmark with at least one tested vars: \", len(incomplete_with_tested_vars_benchmarks))"
   ],
   "metadata": {
    "collapsed": false,
    "pycharm": {
     "name": "#%%\n"
    }
   }
  },
  {
   "cell_type": "markdown",
   "source": [
    "## Dependent Variables"
   ],
   "metadata": {
    "collapsed": false,
    "pycharm": {
     "name": "#%% md\n"
    }
   }
  },
  {
   "cell_type": "code",
   "execution_count": 45,
   "outputs": [],
   "source": [
    "benchmarks_with_deps = [bench for bench in benchmarks if len(bench['dependent_vars']) > 0]\n",
    "completed_benchmark_with_deps = [bench for bench in benchmarks_with_deps if bench['is_completed_successfully'] == 'true']\n",
    "incompleted_benchmark_with_deps = [bench for bench in benchmarks_with_deps if bench['is_completed_successfully'] == 'false']"
   ],
   "metadata": {
    "collapsed": false,
    "pycharm": {
     "name": "#%%\n"
    }
   }
  },
  {
   "cell_type": "code",
   "execution_count": 48,
   "outputs": [
    {
     "name": "stdout",
     "output_type": "stream",
     "text": [
      "Benchmark with dependents:  47\n",
      "Completed Benchmark with Dependents:  47\n",
      "Incompleted benchmark with dependents:  0\n"
     ]
    }
   ],
   "source": [
    "print(\"Benchmark with dependents: \", len(benchmarks_with_deps))\n",
    "print(\"Completed Benchmark with Dependents: \", len(completed_benchmark_with_deps))\n",
    "print(\"Incompleted benchmark with dependents: \", len(incompleted_benchmark_with_deps))"
   ],
   "metadata": {
    "collapsed": false,
    "pycharm": {
     "name": "#%%\n"
    }
   }
  }
 ],
 "metadata": {
  "kernelspec": {
   "display_name": "Python 3",
   "language": "python",
   "name": "python3"
  },
  "language_info": {
   "codemirror_mode": {
    "name": "ipython",
    "version": 2
   },
   "file_extension": ".py",
   "mimetype": "text/x-python",
   "name": "python",
   "nbconvert_exporter": "python",
   "pygments_lexer": "ipython2",
   "version": "2.7.6"
  }
 },
 "nbformat": 4,
 "nbformat_minor": 0
}