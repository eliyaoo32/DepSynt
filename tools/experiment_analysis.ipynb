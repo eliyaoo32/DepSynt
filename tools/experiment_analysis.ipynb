{
 "cells": [
  {
   "cell_type": "code",
   "execution_count": null,
   "metadata": {
    "collapsed": true,
    "pycharm": {
     "name": "#%%\n",
     "is_executing": true
    }
   },
   "outputs": [],
   "source": [
    "import json\n",
    "import numpy as np\n",
    "import seaborn as sns\n",
    "import pandas as pd\n",
    "%matplotlib inline"
   ]
  },
  {
   "cell_type": "code",
   "execution_count": null,
   "outputs": [],
   "source": [
    "_results = json.load(open('./results.json'))\n",
    "benchmarks = [bench for bench in _results if bench['is_completed_successfully'] is not None]    # Ignored benchmarks with issues\n",
    "print(\"Total Valid Benchmarks: \", len(benchmarks))\n",
    "print(\"Benchmark keys: \", benchmarks[0].keys())"
   ],
   "metadata": {
    "collapsed": false,
    "pycharm": {
     "name": "#%%\n",
     "is_executing": true
    }
   }
  },
  {
   "cell_type": "code",
   "execution_count": null,
   "outputs": [],
   "source": [
    "constructed_benchmark = [bench for bench in benchmarks if bench['was_spec_constructed'] == 'true']\n",
    "completed_benchmark = [bench for bench in constructed_benchmark if bench['is_completed_successfully'] == 'true']\n",
    "incompleted_benchmark = [bench for bench in constructed_benchmark if bench['is_completed_successfully'] == 'false']\n",
    "incomplete_with_tested_vars_benchmarks = [bench for bench in incompleted_benchmark if len(bench['tested_vars']) > 0]"
   ],
   "metadata": {
    "collapsed": false,
    "pycharm": {
     "name": "#%%\n",
     "is_executing": true
    }
   }
  },
  {
   "cell_type": "code",
   "execution_count": null,
   "outputs": [],
   "source": [
    "print(\"Total Benchmarks: \", len(benchmarks))\n",
    "print(\"Total Benchmarks With Spec Constructed: \", len(constructed_benchmark))\n",
    "print(\"Total Completed Benchmarks: \", len(completed_benchmark))\n",
    "print(\"Total Incompleted benchmark: \", len(incompleted_benchmark))\n",
    "print(\"Total Incompleted benchmark with at least one tested vars: \", len(incomplete_with_tested_vars_benchmarks))"
   ],
   "metadata": {
    "collapsed": false,
    "pycharm": {
     "name": "#%%\n",
     "is_executing": true
    }
   }
  },
  {
   "cell_type": "markdown",
   "source": [
    "## Dependent Variables"
   ],
   "metadata": {
    "collapsed": false,
    "pycharm": {
     "name": "#%% md\n"
    }
   }
  },
  {
   "cell_type": "code",
   "execution_count": null,
   "outputs": [],
   "source": [
    "benchmarks_with_deps = [bench for bench in benchmarks if len(bench['dependent_vars']) > 0]\n",
    "completed_benchmark_with_deps = [bench for bench in benchmarks_with_deps if bench['is_completed_successfully'] == 'true']\n",
    "incompleted_benchmark_with_deps = [bench for bench in benchmarks_with_deps if bench['is_completed_successfully'] == 'false']"
   ],
   "metadata": {
    "collapsed": false,
    "pycharm": {
     "name": "#%%\n",
     "is_executing": true
    }
   }
  },
  {
   "cell_type": "code",
   "execution_count": null,
   "outputs": [],
   "source": [
    "print(\"Benchmark with dependents: \", len(benchmarks_with_deps))\n",
    "print(\"Completed Benchmark with Dependents: \", len(completed_benchmark_with_deps))\n",
    "print(\"Incompleted benchmark with dependents: \", len(incompleted_benchmark_with_deps))"
   ],
   "metadata": {
    "collapsed": false,
    "pycharm": {
     "name": "#%%\n",
     "is_executing": true
    }
   }
  },
  {
   "cell_type": "code",
   "execution_count": null,
   "outputs": [],
   "source": [
    "benchmark_deps = [ len(bench['dependent_vars']) for bench in completed_benchmark ]\n",
    "deps_agg = np.bincount(benchmark_deps)\n",
    "total_deps_counter = pd.DataFrame.from_records([\n",
    "    {\"Num of deps\": x, \"benchmarks\": y }\n",
    "    for x, y in zip(np.arange(len(deps_agg)), deps_agg)\n",
    "])\n",
    "ax = sns.barplot(data=total_deps_counter, x='Num of deps', y='benchmarks');\n",
    "for i in ax.containers:\n",
    "    ax.bar_label(i,)"
   ],
   "metadata": {
    "collapsed": false,
    "pycharm": {
     "name": "#%%\n",
     "is_executing": true
    }
   }
  }
 ],
 "metadata": {
  "kernelspec": {
   "display_name": "Python 3",
   "language": "python",
   "name": "python3"
  },
  "language_info": {
   "codemirror_mode": {
    "name": "ipython",
    "version": 2
   },
   "file_extension": ".py",
   "mimetype": "text/x-python",
   "name": "python",
   "nbconvert_exporter": "python",
   "pygments_lexer": "ipython2",
   "version": "2.7.6"
  }
 },
 "nbformat": 4,
 "nbformat_minor": 0
}